{
 "cells": [
  {
   "cell_type": "markdown",
   "metadata": {},
   "source": [
    "## RDD (Resilient Distributed Datasets)\n",
    "\n",
    "1. It is a distributed data structure in Spark used for parallel data processing.\n",
    "2. It is fault-tolerant and effienctly process large datasets across a cluster."
   ]
  },
  {
   "cell_type": "markdown",
   "metadata": {},
   "source": [
    "#### Characterstics\n",
    "1. Immutable: Each transformation creates new RDD.\n",
    "2. Distributed: Data is partitioned and processed in parallel.\n",
    "3. Resilient: Track each transformation for fault tolerance.\n",
    "4. Lazy evaluation: Execution plan is optimized and transformation are evaluated when necessary.\n",
    "5. Fault-tolerant operations: map, filter, reduce, count etc."
   ]
  },
  {
   "cell_type": "markdown",
   "metadata": {},
   "source": [
    "#### Transformations\n",
    "1. Creates new RDD by applying computation/manipulation\n",
    "2. Lazy evaluation\n",
    "3. Examples: map, filter, reduceByKet, sortBy, join etc.\n",
    "\n",
    "#### Actions\n",
    "1. Return results or perform actions on RDD\n",
    "2. Early evaluation\n",
    "3. Examples: collect, count, first, foreach, save."
   ]
  },
  {
   "cell_type": "code",
   "execution_count": 1,
   "metadata": {},
   "outputs": [],
   "source": [
    "from pyspark.sql import SparkSession\n",
    "\n",
    "spark = SparkSession.builder \\\n",
    "    .appName(\"MySparkApp-RDD\") \\\n",
    "    .getOrCreate()\n",
    "\n",
    "sc = spark.sparkContext"
   ]
  },
  {
   "cell_type": "markdown",
   "metadata": {},
   "source": [
    "### Creating RDD using Iterable"
   ]
  },
  {
   "cell_type": "code",
   "execution_count": 3,
   "metadata": {},
   "outputs": [],
   "source": [
    "myList = [2, 4, 1, 5, 6, 7]\n",
    "\n",
    "rdd = sc.parallelize(myList)"
   ]
  },
  {
   "cell_type": "code",
   "execution_count": 4,
   "metadata": {},
   "outputs": [
    {
     "data": {
      "text/plain": [
       "ParallelCollectionRDD[0] at readRDDFromFile at PythonRDD.scala:289"
      ]
     },
     "execution_count": 4,
     "metadata": {},
     "output_type": "execute_result"
    }
   ],
   "source": [
    "rdd"
   ]
  },
  {
   "cell_type": "markdown",
   "metadata": {},
   "source": [
    "### Actions"
   ]
  },
  {
   "cell_type": "code",
   "execution_count": 5,
   "metadata": {},
   "outputs": [
    {
     "data": {
      "text/plain": [
       "[2, 4, 1, 5, 6, 7]"
      ]
     },
     "execution_count": 5,
     "metadata": {},
     "output_type": "execute_result"
    }
   ],
   "source": [
    "rdd.collect()"
   ]
  },
  {
   "cell_type": "code",
   "execution_count": 6,
   "metadata": {},
   "outputs": [
    {
     "data": {
      "text/plain": [
       "[(1, 'Paul', 32), (2, 'Tina', 45), (3, 'John', 28)]"
      ]
     },
     "execution_count": 6,
     "metadata": {},
     "output_type": "execute_result"
    }
   ],
   "source": [
    "myList = [(1, \"Paul\", 32), (2, \"Tina\", 45), (3, \"John\", 28)]\n",
    "rdd = sc.parallelize(myList)\n",
    "\n",
    "rdd.collect()"
   ]
  },
  {
   "cell_type": "code",
   "execution_count": 7,
   "metadata": {},
   "outputs": [
    {
     "data": {
      "text/plain": [
       "3"
      ]
     },
     "execution_count": 7,
     "metadata": {},
     "output_type": "execute_result"
    }
   ],
   "source": [
    "rdd.count()"
   ]
  },
  {
   "cell_type": "code",
   "execution_count": 8,
   "metadata": {},
   "outputs": [
    {
     "data": {
      "text/plain": [
       "(1, 'Paul', 32)"
      ]
     },
     "execution_count": 8,
     "metadata": {},
     "output_type": "execute_result"
    }
   ],
   "source": [
    "rdd.first()"
   ]
  },
  {
   "cell_type": "code",
   "execution_count": 9,
   "metadata": {},
   "outputs": [
    {
     "data": {
      "text/plain": [
       "['mobile', 'pc', 'laptop', 'monitor', 'mouse']"
      ]
     },
     "execution_count": 9,
     "metadata": {},
     "output_type": "execute_result"
    }
   ],
   "source": [
    "myList = [\"mobile\", \"pc\", \"laptop\", \"monitor\", \"mouse\"]\n",
    "rdd = sc.parallelize(myList)\n",
    "\n",
    "rdd.collect()"
   ]
  },
  {
   "cell_type": "markdown",
   "metadata": {},
   "source": [
    "### Transformations"
   ]
  },
  {
   "cell_type": "markdown",
   "metadata": {},
   "source": [
    "### map()"
   ]
  },
  {
   "cell_type": "code",
   "execution_count": 29,
   "metadata": {},
   "outputs": [
    {
     "data": {
      "text/plain": [
       "[(1, 'Paul', 32000, 'HR'),\n",
       " (2, 'Tina', 45000, 'HR'),\n",
       " (3, 'John', 28000, 'IT'),\n",
       " (4, 'Mike', 36000, 'IT'),\n",
       " (5, 'David', 34000, 'Sales')]"
      ]
     },
     "execution_count": 29,
     "metadata": {},
     "output_type": "execute_result"
    }
   ],
   "source": [
    "data = [(1, \"Paul\", 32000, \"HR\"), (2, \"Tina\", 45000, \"HR\"), (3, \"John\", 28000, \"IT\"), (4, \"Mike\", 36000, \"IT\"), (5, \"David\", 34000, \"Sales\")]\n",
    "\n",
    "rdd = sc.parallelize(data)\n",
    "rdd.collect()"
   ]
  },
  {
   "cell_type": "code",
   "execution_count": 23,
   "metadata": {},
   "outputs": [
    {
     "data": {
      "text/plain": [
       "[44800.0, 63000.0, 39200.0, 50400.0, 47600.0]"
      ]
     },
     "execution_count": 23,
     "metadata": {},
     "output_type": "execute_result"
    }
   ],
   "source": [
    "rdd.map(lambda emp: (emp[2] + emp[2] * 0.4)).collect()"
   ]
  },
  {
   "cell_type": "code",
   "execution_count": 24,
   "metadata": {},
   "outputs": [
    {
     "data": {
      "text/plain": [
       "[{'id': 1,\n",
       "  'name': 'Paul',\n",
       "  'salary': 32000,\n",
       "  'dept': 'HR',\n",
       "  'increment': 12800.0},\n",
       " {'id': 2,\n",
       "  'name': 'Tina',\n",
       "  'salary': 45000,\n",
       "  'dept': 'HR',\n",
       "  'increment': 18000.0},\n",
       " {'id': 3,\n",
       "  'name': 'John',\n",
       "  'salary': 28000,\n",
       "  'dept': 'IT',\n",
       "  'increment': 11200.0},\n",
       " {'id': 4,\n",
       "  'name': 'Mike',\n",
       "  'salary': 36000,\n",
       "  'dept': 'IT',\n",
       "  'increment': 14400.0},\n",
       " {'id': 5,\n",
       "  'name': 'David',\n",
       "  'salary': 34000,\n",
       "  'dept': 'Sales',\n",
       "  'increment': 13600.0}]"
      ]
     },
     "execution_count": 24,
     "metadata": {},
     "output_type": "execute_result"
    }
   ],
   "source": [
    "rdd.map(lambda emp: {\n",
    "    \"id\": emp[0],\n",
    "    \"name\": emp[1],\n",
    "    \"salary\": emp[2],\n",
    "    \"dept\": emp[3],\n",
    "    \"increment\": emp[2] * 0.4\n",
    "}).collect()"
   ]
  },
  {
   "cell_type": "markdown",
   "metadata": {},
   "source": [
    "### filter()"
   ]
  },
  {
   "cell_type": "code",
   "execution_count": 30,
   "metadata": {},
   "outputs": [
    {
     "data": {
      "text/plain": [
       "[(2, 'Tina', 45000, 'HR'), (4, 'Mike', 36000, 'IT')]"
      ]
     },
     "execution_count": 30,
     "metadata": {},
     "output_type": "execute_result"
    }
   ],
   "source": [
    "rdd.filter(lambda emp: emp[2] > 35000).collect()"
   ]
  },
  {
   "cell_type": "code",
   "execution_count": 31,
   "metadata": {},
   "outputs": [
    {
     "data": {
      "text/plain": [
       "[2, 1, 3, 5, 6, 4]"
      ]
     },
     "execution_count": 31,
     "metadata": {},
     "output_type": "execute_result"
    }
   ],
   "source": [
    "myList = [2, 1, 3, 5, 6, 4]\n",
    "rdd_sample = sc.parallelize(myList)\n",
    "\n",
    "rdd_sample.collect()"
   ]
  },
  {
   "cell_type": "code",
   "execution_count": 32,
   "metadata": {},
   "outputs": [
    {
     "data": {
      "text/plain": [
       "[2, 6, 4]"
      ]
     },
     "execution_count": 32,
     "metadata": {},
     "output_type": "execute_result"
    }
   ],
   "source": [
    "rdd_sample.filter(lambda x: x%2 == 0).collect()"
   ]
  },
  {
   "cell_type": "markdown",
   "metadata": {},
   "source": [
    "### reduce()"
   ]
  },
  {
   "cell_type": "code",
   "execution_count": null,
   "metadata": {},
   "outputs": [
    {
     "data": {
      "text/plain": [
       "21"
      ]
     },
     "execution_count": 28,
     "metadata": {},
     "output_type": "execute_result"
    }
   ],
   "source": [
    "rdd_sample.reduce(lambda x,y: x+y)"
   ]
  },
  {
   "cell_type": "markdown",
   "metadata": {},
   "source": [
    "### sortBy"
   ]
  },
  {
   "cell_type": "code",
   "execution_count": 34,
   "metadata": {},
   "outputs": [
    {
     "data": {
      "text/plain": [
       "[1, 2, 3, 4, 5, 6]"
      ]
     },
     "execution_count": 34,
     "metadata": {},
     "output_type": "execute_result"
    }
   ],
   "source": [
    "rdd_sample.sortBy(lambda x:x).collect()"
   ]
  },
  {
   "cell_type": "code",
   "execution_count": 39,
   "metadata": {},
   "outputs": [
    {
     "data": {
      "text/plain": [
       "[(1, 'Paul', 32),\n",
       " (2, 'Tina', 45),\n",
       " (3, 'John', 28),\n",
       " (4, 'Mike', 25),\n",
       " (5, 'David', 36)]"
      ]
     },
     "execution_count": 39,
     "metadata": {},
     "output_type": "execute_result"
    }
   ],
   "source": [
    "myList = [(1, \"Paul\", 32), (2, \"Tina\", 45), (3, \"John\", 28), (4, \"Mike\", 25), (5, \"David\", 36)]\n",
    "rdd = sc.parallelize(myList)\n",
    "\n",
    "rdd.collect()"
   ]
  },
  {
   "cell_type": "code",
   "execution_count": 40,
   "metadata": {},
   "outputs": [
    {
     "data": {
      "text/plain": [
       "[(4, 'Mike', 25),\n",
       " (3, 'John', 28),\n",
       " (1, 'Paul', 32),\n",
       " (5, 'David', 36),\n",
       " (2, 'Tina', 45)]"
      ]
     },
     "execution_count": 40,
     "metadata": {},
     "output_type": "execute_result"
    }
   ],
   "source": [
    "rdd.sortBy(keyfunc=lambda x:x[2]).collect()"
   ]
  },
  {
   "cell_type": "code",
   "execution_count": 41,
   "metadata": {},
   "outputs": [
    {
     "data": {
      "text/plain": [
       "[(2, 'Tina', 45),\n",
       " (5, 'David', 36),\n",
       " (1, 'Paul', 32),\n",
       " (3, 'John', 28),\n",
       " (4, 'Mike', 25)]"
      ]
     },
     "execution_count": 41,
     "metadata": {},
     "output_type": "execute_result"
    }
   ],
   "source": [
    "rdd.sortBy(keyfunc=lambda x:x[2], ascending=False).collect()"
   ]
  },
  {
   "cell_type": "markdown",
   "metadata": {},
   "source": [
    "### Convert RDD to DataFrame"
   ]
  },
  {
   "cell_type": "code",
   "execution_count": 42,
   "metadata": {},
   "outputs": [
    {
     "data": {
      "text/plain": [
       "[(1, 'Paul', 32000, 'HR'),\n",
       " (2, 'Tina', 45000, 'HR'),\n",
       " (3, 'John', 28000, 'IT'),\n",
       " (4, 'Mike', 36000, 'IT'),\n",
       " (5, 'David', 34000, 'Sales')]"
      ]
     },
     "execution_count": 42,
     "metadata": {},
     "output_type": "execute_result"
    }
   ],
   "source": [
    "data = [(1, \"Paul\", 32000, \"HR\"), (2, \"Tina\", 45000, \"HR\"), (3, \"John\", 28000, \"IT\"), (4, \"Mike\", 36000, \"IT\"), (5, \"David\", 34000, \"Sales\")]\n",
    "\n",
    "rdd = sc.parallelize(data)\n",
    "rdd.collect()"
   ]
  },
  {
   "cell_type": "code",
   "execution_count": 43,
   "metadata": {},
   "outputs": [
    {
     "name": "stdout",
     "output_type": "stream",
     "text": [
      "+---+-----+------+----------+\n",
      "| id| name|salary|department|\n",
      "+---+-----+------+----------+\n",
      "|  1| Paul| 32000|        HR|\n",
      "|  2| Tina| 45000|        HR|\n",
      "|  3| John| 28000|        IT|\n",
      "|  4| Mike| 36000|        IT|\n",
      "|  5|David| 34000|     Sales|\n",
      "+---+-----+------+----------+\n",
      "\n"
     ]
    }
   ],
   "source": [
    "df = rdd.toDF(schema=[\"id\", \"name\", \"salary\", \"department\"])\n",
    "df.show()"
   ]
  },
  {
   "cell_type": "markdown",
   "metadata": {},
   "source": [
    "#### DataFrame to RDD"
   ]
  },
  {
   "cell_type": "code",
   "execution_count": 44,
   "metadata": {},
   "outputs": [
    {
     "data": {
      "text/plain": [
       "[(1, 'Paul', 32000, 'HR'),\n",
       " (2, 'Tina', 45000, 'HR'),\n",
       " (3, 'John', 28000, 'IT'),\n",
       " (4, 'Mike', 36000, 'IT'),\n",
       " (5, 'David', 34000, 'Sales')]"
      ]
     },
     "execution_count": 44,
     "metadata": {},
     "output_type": "execute_result"
    }
   ],
   "source": [
    "rdd = df.rdd.map(lambda emp: tuple(emp))\n",
    "rdd.collect()"
   ]
  },
  {
   "cell_type": "markdown",
   "metadata": {},
   "source": [
    "### How to use map on DataFrame?\n",
    "1. Convert DataFrame to RDD.\n",
    "2. Use map (even apply transformation if needed) and get the new mapped RDD.\n",
    "3. Convert mapped RDD to new DataFrame using toDF() function."
   ]
  },
  {
   "cell_type": "code",
   "execution_count": 49,
   "metadata": {},
   "outputs": [
    {
     "name": "stdout",
     "output_type": "stream",
     "text": [
      "+---+-----+------+----------+\n",
      "| id| name|salary|department|\n",
      "+---+-----+------+----------+\n",
      "|  1| Paul| 32000|        HR|\n",
      "|  2| Tina| 45000|        HR|\n",
      "|  3| John| 28000|        IT|\n",
      "|  4| Mike| 36000|        IT|\n",
      "|  5|David| 34000|     Sales|\n",
      "+---+-----+------+----------+\n",
      "\n"
     ]
    }
   ],
   "source": [
    "df.show()"
   ]
  },
  {
   "cell_type": "code",
   "execution_count": 51,
   "metadata": {},
   "outputs": [
    {
     "data": {
      "text/plain": [
       "[('EMP001', 'PAUL', 32000, 'HR', 12800.0),\n",
       " ('EMP002', 'TINA', 45000, 'HR', 18000.0),\n",
       " ('EMP003', 'JOHN', 28000, 'IT', 11200.0),\n",
       " ('EMP004', 'MIKE', 36000, 'IT', 14400.0),\n",
       " ('EMP005', 'DAVID', 34000, 'Sales', 13600.0)]"
      ]
     },
     "execution_count": 51,
     "metadata": {},
     "output_type": "execute_result"
    }
   ],
   "source": [
    "mapped_rdd = df.rdd.map(lambda emp: (\n",
    "        \"EMP00\" + str(emp[0]), \n",
    "        emp[1].upper(),\n",
    "        emp[2],\n",
    "        emp[3],\n",
    "        emp[2] * 0.4\n",
    "    )\n",
    ")\n",
    "\n",
    "mapped_rdd.collect()"
   ]
  },
  {
   "cell_type": "code",
   "execution_count": 52,
   "metadata": {},
   "outputs": [
    {
     "name": "stdout",
     "output_type": "stream",
     "text": [
      "+------+-----+------+----------+---------+\n",
      "|    id| name|salary|department|increment|\n",
      "+------+-----+------+----------+---------+\n",
      "|EMP001| PAUL| 32000|        HR|  12800.0|\n",
      "|EMP002| TINA| 45000|        HR|  18000.0|\n",
      "|EMP003| JOHN| 28000|        IT|  11200.0|\n",
      "|EMP004| MIKE| 36000|        IT|  14400.0|\n",
      "|EMP005|DAVID| 34000|     Sales|  13600.0|\n",
      "+------+-----+------+----------+---------+\n",
      "\n"
     ]
    }
   ],
   "source": [
    "mapped_df = mapped_rdd.toDF(schema=[\"id\", \"name\", \"salary\", \"department\", \"increment\"])\n",
    "mapped_df.show()"
   ]
  },
  {
   "cell_type": "code",
   "execution_count": 53,
   "metadata": {},
   "outputs": [],
   "source": [
    "sc.stop()"
   ]
  },
  {
   "cell_type": "code",
   "execution_count": 54,
   "metadata": {},
   "outputs": [],
   "source": [
    "spark.stop()"
   ]
  },
  {
   "cell_type": "code",
   "execution_count": null,
   "metadata": {},
   "outputs": [],
   "source": []
  }
 ],
 "metadata": {
  "kernelspec": {
   "display_name": ".venv",
   "language": "python",
   "name": "python3"
  },
  "language_info": {
   "codemirror_mode": {
    "name": "ipython",
    "version": 3
   },
   "file_extension": ".py",
   "mimetype": "text/x-python",
   "name": "python",
   "nbconvert_exporter": "python",
   "pygments_lexer": "ipython3",
   "version": "3.10.11"
  }
 },
 "nbformat": 4,
 "nbformat_minor": 2
}
